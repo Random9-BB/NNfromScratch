{
 "cells": [
  {
   "cell_type": "code",
   "execution_count": 86,
   "metadata": {},
   "outputs": [
    {
     "data": {
      "text/plain": [
       "array([[1, 2],\n",
       "       [3, 4]])"
      ]
     },
     "execution_count": 86,
     "metadata": {},
     "output_type": "execute_result"
    }
   ],
   "source": [
    "import numpy as np\n",
    "import matplotlib.pyplot as plt\n",
    "\n",
    "a = np.array([[1, 2, 3, 4],[2, 3, 4, 5],[3, 4, 5, 6],[3, 4, 5, 6]])\n",
    "\n",
    "b = np.array([[1,2],[3,4]])\n",
    "c = np.array([[1,0],[0,1]])\n",
    "\n",
    "A_1 = np.array([[1, 2, 3],[4, 5, 6],[7, 8, 9]])\n",
    "A_2 = np.array([[0, 1, 2],[3, 4, 5],[6, 7, 8]])\n",
    "\n",
    "A = (A_1, A_2)\n",
    "\n",
    "B_1 = np.array([[1,2],[3,4]])\n",
    "B_2 = np.array([[0,1],[2,3]])\n",
    "\n",
    "B = (B_1, B_2)\n",
    "\n",
    "b_conv = np.flipud(np.fliplr(b))\n",
    "b_conv\n",
    "\n",
    "B[0]"
   ]
  },
  {
   "cell_type": "code",
   "execution_count": 92,
   "metadata": {},
   "outputs": [],
   "source": [
    "def corr(A, krnl, padding, stride):\n",
    "    stride_x = stride[0]\n",
    "    stride_y = stride[1]\n",
    "    padding_x = padding[0]\n",
    "    padding_y = padding[1]\n",
    "\n",
    "    B = np.zeros((A.shape[0]+2*padding_x, A.shape[1]+2*padding_y))\n",
    "    B[padding_x:A.shape[0]+padding_x, padding_y:A.shape[1]+padding_y] = A\n",
    "    A = B\n",
    "\n",
    "\n",
    "    output = np.zeros(((A.shape[0] - krnl.shape[0])//stride_x+1, (A.shape[1] - krnl.shape[1])//stride_y+1))\n",
    "    for i in range(0, A.shape[0] - krnl.shape[0]+1, stride_x):\n",
    "        for j in range(0, A.shape[1] - krnl.shape[1]+1, stride_y):\n",
    "            output[i//stride_x,j//stride_y] = (A[i:i+krnl.shape[0],j:j+krnl.shape[1]] * krnl).sum()\n",
    "\n",
    "    return output\n",
    "\n",
    "def multipleChannelsCorr(A, krnl, padding, stride):\n",
    "\n",
    "    channels = len(A)\n",
    "    output_col = corr(A[0], krnl[0], padding, stride).shape[1]\n",
    "    output_row = corr(A[0], krnl[0], padding, stride).shape[0]\n",
    "    print(output_row, output_col)\n",
    "    output = np.zeros((output_row, output_col))\n",
    "\n",
    "    for i in range(channels):\n",
    "        output += corr(A[i], krnl[i], padding, stride)\n",
    "\n",
    "    return output\n",
    "\n",
    "def maxPooling(A, pool_size, padding, stride):\n",
    "    stride_x = stride[0]\n",
    "    stride_y = stride[1]\n",
    "    padding_x = padding[0]\n",
    "    padding_y = padding[1]\n",
    "\n",
    "    B = np.zeros((A.shape[1]+2*padding_x, A.shape[0]+2*padding_y))\n",
    "    B[padding_x:A.shape[1]+padding_x, padding_y:A.shape[0]+padding_y] = A\n",
    "    A = B\n",
    "\n",
    "    output = np.zeros(((A.shape[0] - pool_size[0])//stride_x + 1,((A.shape[1] - pool_size[1])//stride_y + 1)))\n",
    "    \n",
    "\n",
    "    for i in range(output.shape[0]):\n",
    "        for j in range(output.shape[1]):\n",
    "            pool = A[i*stride_x:i*stride_x+pool_size[0],j*stride_y:j*stride_y+pool_size[1]]\n",
    "            print(pool)\n",
    "            output[i,j] = np.max(pool)\n",
    "\n",
    "    return output"
   ]
  },
  {
   "cell_type": "code",
   "execution_count": 97,
   "metadata": {},
   "outputs": [],
   "source": [
    "def dL_dK(dL_dO, X, padding, stride):\n",
    "\n",
    "\n",
    "    padding_x = padding[0]\n",
    "    padding_y = padding[1]\n",
    "    \n",
    "    B = np.zeros((X.shape[0]+2*padding_x, X.shape[1]+2*padding_y))\n",
    "    B[padding_x:X.shape[0]+padding_x, padding_y:X.shape[1]+padding_y] = X\n",
    "    X = B\n",
    "\n",
    "    return corr(X, dL_dO, (0,0), stride)\n",
    "\n",
    "\n",
    "\n",
    "def dL_dX(dL_dO, krnl, padding, stride):\n",
    "\n",
    "\n",
    "    dL_dO_processed = np.zeros((2*(krnl.shape[0]-1) + dL_dO.shape[0] + (stride[0]-1)*(dL_dO.shape[0]-1), 2*(krnl.shape[1]-1) + dL_dO.shape[1] + (stride[1]-1)*(dL_dO.shape[1]-1)))\n",
    "\n",
    "\n",
    "    for i in range(krnl.shape[0]-1, 2*(krnl.shape[0]-1) + dL_dO.shape[0] + (stride[0]-1)*(dL_dO.shape[0]-1) - 1, stride[0]):\n",
    "        for j in range(krnl.shape[1]-1, 2*(krnl.shape[1]-1) + dL_dO.shape[1] + (stride[1]-1)*(dL_dO.shape[1]-1) - 1, stride[1]):\n",
    "            dL_dO_processed[i,j] = dL_dO[(i-krnl.shape[0]+1)//stride[0],(j-krnl.shape[1]+1)//stride[1]]\n",
    "\n",
    "\n",
    "    krnl = np.flipud(np.fliplr(krnl))\n",
    "\n",
    "\n",
    "    size_0 = corr(dL_dO_processed, krnl, (0,0), (1,1)).shape[0]\n",
    "    size_1 = corr(dL_dO_processed, krnl, (0,0), (1,1)).shape[1]\n",
    "\n",
    "    output = corr(dL_dO_processed, krnl, (0,0), (1,1))[padding[0]:size_0-padding[0],padding[1]:size_1-padding[1]]   \n",
    "\n",
    "    return output\n",
    "\n"
   ]
  },
  {
   "cell_type": "code",
   "execution_count": 99,
   "metadata": {},
   "outputs": [
    {
     "name": "stdout",
     "output_type": "stream",
     "text": [
      "[[1 2]\n",
      " [3 4]] \n",
      " [[1 2 3 4]\n",
      " [2 3 4 5]\n",
      " [3 4 5 6]\n",
      " [3 4 5 6]]\n"
     ]
    },
    {
     "data": {
      "text/plain": [
       "array([[23., 33., 43.],\n",
       "       [33., 43., 53.],\n",
       "       [36., 46., 56.]])"
      ]
     },
     "execution_count": 99,
     "metadata": {},
     "output_type": "execute_result"
    }
   ],
   "source": [
    "print(b, \"\\n\",a)\n",
    "dL_dK(b, a, (0,0), (1,1))"
   ]
  },
  {
   "cell_type": "code",
   "execution_count": null,
   "metadata": {},
   "outputs": [],
   "source": []
  }
 ],
 "metadata": {
  "kernelspec": {
   "display_name": ".venv",
   "language": "python",
   "name": "python3"
  },
  "language_info": {
   "codemirror_mode": {
    "name": "ipython",
    "version": 3
   },
   "file_extension": ".py",
   "mimetype": "text/x-python",
   "name": "python",
   "nbconvert_exporter": "python",
   "pygments_lexer": "ipython3",
   "version": "3.9.6"
  }
 },
 "nbformat": 4,
 "nbformat_minor": 2
}
